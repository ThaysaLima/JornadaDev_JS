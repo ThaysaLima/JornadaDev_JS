{
 "cells": [
  {
   "attachments": {},
   "cell_type": "markdown",
   "metadata": {},
   "source": [
    "## Aula - aprendendo variável: <br>\n",
    "variável podemos ver como uma caixa que vamos armazenar coisa e quando formos ver podemos apenas chamar por ela que já virá tudo junto. <br>\n",
    "podemos colocar vários objetos dentro da variável, ou apenas 1. "
   ]
  },
  {
   "attachments": {},
   "cell_type": "markdown",
   "metadata": {},
   "source": [
    "o for colocado depois da palavra let o js vai entender que é uma variável <br>\n",
    "tudo que tiver apos 0 = vai ser o valor da variável <br>\n",
    "; finaliza a linha de código <br>\n",
    "= é igual a recebe, e não valor de igualdade.<br>"
   ]
  },
  {
   "cell_type": "code",
   "execution_count": null,
   "metadata": {
    "vscode": {
     "languageId": "javascript"
    }
   },
   "outputs": [],
   "source": [
    " \n",
    "let nomaDaVariavel = 2\n",
    "// '' = string \n",
    "let fruta = 'maçã'; "
   ]
  },
  {
   "attachments": {},
   "cell_type": "markdown",
   "metadata": {},
   "source": [
    "## Aula - Tipo de dados das variáveis: <br>"
   ]
  },
  {
   "cell_type": "markdown",
   "metadata": {},
   "source": []
  }
 ],
 "metadata": {
  "language_info": {
   "name": "python"
  },
  "orig_nbformat": 4
 },
 "nbformat": 4,
 "nbformat_minor": 2
}
